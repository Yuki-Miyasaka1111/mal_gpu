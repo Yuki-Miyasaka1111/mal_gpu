{
 "cells": [
  {
   "cell_type": "code",
   "execution_count": 8,
   "metadata": {},
   "outputs": [],
   "source": [
    "import csv\n",
    "import sys\n",
    "\n",
    "# フィールドサイズの上限をシステムの最大値に設定\n",
    "csv.field_size_limit(sys.maxsize)\n",
    "\n",
    "original_file = '/workspaces/mal_gpu/data/interim/tokenizer_training_data01.csv'  # 元の160GBのCSVファイル\n",
    "insert_file = '/workspaces/mal_gpu/data/interim/tokenizer_training_data02.csv'    # 追加するデータが入ったCSVファイル\n",
    "\n",
    "# 元のファイルを追記モードで開く\n",
    "with open(original_file, 'a', newline='', encoding='utf-8') as outfile, \\\n",
    "     open(insert_file, 'r', newline='', encoding='utf-8') as insertfile:\n",
    "\n",
    "    writer = csv.writer(outfile)\n",
    "    insert_reader = csv.reader(insertfile)\n",
    "\n",
    "    # 挿入ファイルのヘッダーをスキップ\n",
    "    next(insert_reader, None)\n",
    "\n",
    "    # データを一行ずつ読み込み、末尾に追加\n",
    "    for row in insert_reader:\n",
    "        writer.writerow(row)\n"
   ]
  }
 ],
 "metadata": {
  "kernelspec": {
   "display_name": "Python 3",
   "language": "python",
   "name": "python3"
  },
  "language_info": {
   "codemirror_mode": {
    "name": "ipython",
    "version": 3
   },
   "file_extension": ".py",
   "mimetype": "text/x-python",
   "name": "python",
   "nbconvert_exporter": "python",
   "pygments_lexer": "ipython3",
   "version": "3.8.10"
  }
 },
 "nbformat": 4,
 "nbformat_minor": 2
}
