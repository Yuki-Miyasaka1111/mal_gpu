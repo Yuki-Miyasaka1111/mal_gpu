{
 "cells": [
  {
   "cell_type": "code",
   "execution_count": 3,
   "metadata": {},
   "outputs": [],
   "source": [
    "import os\n",
    "os.environ[\"CUDA_VISIBLE_DEVICES\"] = \"2,3\""
   ]
  },
  {
   "cell_type": "code",
   "execution_count": 1,
   "metadata": {},
   "outputs": [
    {
     "name": "stdout",
     "output_type": "stream",
     "text": [
      "/usr/bin/python3\n"
     ]
    }
   ],
   "source": [
    "import sys\n",
    "print(sys.executable)"
   ]
  },
  {
   "cell_type": "markdown",
   "metadata": {},
   "source": [
    "連結パターン"
   ]
  },
  {
   "cell_type": "code",
   "execution_count": 1,
   "metadata": {},
   "outputs": [
    {
     "name": "stderr",
     "output_type": "stream",
     "text": [
      "2024-10-07 19:01:23.499940: I tensorflow/core/platform/cpu_feature_guard.cc:182] This TensorFlow binary is optimized to use available CPU instructions in performance-critical operations.\n",
      "To enable the following instructions: AVX2 FMA, in other operations, rebuild TensorFlow with the appropriate compiler flags.\n",
      "2024-10-07 19:01:24.292071: W tensorflow/compiler/tf2tensorrt/utils/py_utils.cc:38] TF-TRT Warning: Could not find TensorRT\n",
      "/usr/local/lib/python3.8/dist-packages/transformers/tokenization_utils_base.py:1617: FutureWarning: `clean_up_tokenization_spaces` was not set. It will be set to `True` by default. This behavior will be deprecated in transformers v4.45, and will be then set to `False` by default. For more details check this issue: https://github.com/huggingface/transformers/issues/31884\n",
      "  warnings.warn(\n"
     ]
    },
    {
     "data": {
      "application/vnd.jupyter.widget-view+json": {
       "model_id": "b477bbcbe2b54d67842173e2f80fffb6",
       "version_major": 2,
       "version_minor": 0
      },
      "text/plain": [
       "Map:   0%|          | 0/14866 [00:00<?, ? examples/s]"
      ]
     },
     "metadata": {},
     "output_type": "display_data"
    }
   ],
   "source": [
    "import os\n",
    "import torch\n",
    "from transformers import RobertaTokenizer, RobertaForSequenceClassification, Trainer, TrainingArguments\n",
    "from datasets import load_dataset\n",
    "\n",
    "# 使用するGPUを設定\n",
    "os.environ[\"CUDA_VISIBLE_DEVICES\"] = \"2,3\"\n",
    "\n",
    "# トークナイザのファイルパス\n",
    "tokenizer_path = '/workspaces/mal_gpu/data/interim/tokenizer_training/bpe/concatenated_tokenizer'\n",
    "training_data_path = '/workspaces/mal_gpu/data/interim/tokenizer_training/tokenizer_training_data.csv'\n",
    "\n",
    "# 1. RobertaTokenizerを使用してトークナイザをロード\n",
    "tokenizer = RobertaTokenizer.from_pretrained(tokenizer_path)\n",
    "\n",
    "# 2. Hugging Face datasets でデータを読み込む（ストリームではなくフルデータ）\n",
    "dataset = load_dataset('csv', data_files=training_data_path, split='train')\n",
    "\n",
    "# 3. データをトークナイズする関数を作成\n",
    "def preprocess_function(examples):\n",
    "    return tokenizer(examples['instructions'], truncation=True, padding='max_length', max_length=512)\n",
    "\n",
    "# 4. データセットをトークナイズ\n",
    "tokenized_dataset = dataset.map(preprocess_function, batched=True, batch_size=64)\n",
    "\n",
    "# 5. ラベルの整数マッピングを追加\n",
    "label_mapping = {'benign': 0, 'malicious': 1}\n",
    "tokenized_dataset = tokenized_dataset.map(lambda x: {'label': label_mapping[x['label']]})\n",
    "\n",
    "# 6. モデルの準備（RobertaForSequenceClassificationを使用）\n",
    "model = RobertaForSequenceClassification.from_pretrained('roberta-base', num_labels=2)\n",
    "\n",
    "# 7. トレーニング設定\n",
    "training_args = TrainingArguments(\n",
    "    output_dir='/workspaces/mal_gpu/src/models/bpe/results',   # モデルの保存ディレクトリ\n",
    "    evaluation_strategy=\"epoch\",              # 各エポックの終わりに評価\n",
    "    save_strategy=\"epoch\",                    # 各エポックの終わりにモデルを保存\n",
    "    learning_rate=2e-5,                       # 学習率\n",
    "    per_device_train_batch_size=16,           # 各GPUあたりのバッチサイズ\n",
    "    per_device_eval_batch_size=16,            # 評価時のバッチサイズ\n",
    "    num_train_epochs=3,                       # エポック数\n",
    "    weight_decay=0.01,                        # 重みの減衰\n",
    "    logging_dir='/workspaces/mal_gpu/logs',   # ログの保存ディレクトリ\n",
    "    logging_steps=10,                         # 何ステップごとにログを取るか\n",
    "    save_steps=1000,                          # モデルを保存するステップ\n",
    "    load_best_model_at_end=True,              # 最も性能の良いモデルを最後にロード\n",
    "    report_to=\"none\",                         # レポートの出力を抑制\n",
    "    max_steps=5000                            # 総ステップ数を指定\n",
    ")\n",
    "\n",
    "# 8. トレーナーの作成\n",
    "trainer = Trainer(\n",
    "    model=model,\n",
    "    args=training_args,\n",
    "    train_dataset=tokenized_dataset,  # トレーニングデータセット\n",
    "    tokenizer=tokenizer\n",
    ")\n",
    "\n",
    "# 9. モデルのトレーニング\n",
    "trainer.train()\n",
    "\n",
    "# トレーニング終了後にモデルを保存\n",
    "model.save_pretrained('/workspaces/mal_gpu/src/models/bpe')\n",
    "tokenizer.save_pretrained('/workspaces/mal_gpu/src/models/bpe')\n",
    "\n",
    "print(\"モデルのトレーニングが完了しました。\")\n"
   ]
  }
 ],
 "metadata": {
  "kernelspec": {
   "display_name": "Python 3",
   "language": "python",
   "name": "python3"
  },
  "language_info": {
   "codemirror_mode": {
    "name": "ipython",
    "version": 3
   },
   "file_extension": ".py",
   "mimetype": "text/x-python",
   "name": "python",
   "nbconvert_exporter": "python",
   "pygments_lexer": "ipython3",
   "version": "3.8.10"
  }
 },
 "nbformat": 4,
 "nbformat_minor": 2
}
